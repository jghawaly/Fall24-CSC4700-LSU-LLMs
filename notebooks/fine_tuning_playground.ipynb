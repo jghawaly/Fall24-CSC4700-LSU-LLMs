{
 "cells": [
  {
   "cell_type": "code",
   "execution_count": 1,
   "metadata": {
    "collapsed": true
   },
   "outputs": [],
   "source": [
    "import json"
   ]
  },
  {
   "cell_type": "markdown",
   "source": [
    "# Define System Prompt"
   ],
   "metadata": {
    "collapsed": false
   }
  },
  {
   "cell_type": "code",
   "execution_count": 2,
   "outputs": [],
   "source": [
    "system_msg = \"\"\"Below is the AISX apple fruit grading system, which grades the quality of apples based on their diameter, texture, and color. Each apple gets a certain number of points based on the following table:\n",
    "\n",
    "Points, Diameter (d, inches)\n",
    "1, 3 < d <= 3.6\n",
    "2, 3.6 < d <= 4.2\n",
    "3, d > 4.2\n",
    "\n",
    "Points, Texture\n",
    "1, Rough\n",
    "2, Smooth but dimpled\n",
    "3, Smooth\n",
    "\n",
    "Points, Color\n",
    "1, Yellow\n",
    "2, Red with some yellow\n",
    "3, Red\n",
    "\n",
    "Apples with 8 or more points are Grade A, 6-7 points Grade B, and Grade C below 6 points.\n",
    "\n",
    "You are an expert in this apple grading system.\"\"\""
   ],
   "metadata": {
    "collapsed": false
   }
  },
  {
   "cell_type": "markdown",
   "source": [
    "# Generate Synthetic Dataset"
   ],
   "metadata": {
    "collapsed": false
   }
  },
  {
   "cell_type": "code",
   "execution_count": 8,
   "outputs": [],
   "source": [
    "import random\n",
    "\n",
    "apple_color_options = {\"red\": 3, \"all red\": 3, \"99% red\": 3, \"crimson\": 3,\n",
    "                       \"bright red\": 3, \"dull red\": 3, \"deep red\": 3,\n",
    "                       \"yellow\": 2, \"bright yellow\": 2, \"dull yellow\": 2,\n",
    "                       \"matte yellow\": 2, \"99% yellow\": 2, \"all yellow\": 2,\n",
    "                       \"banana colored\": 2, \"red and yellow\": 1, \"red and a little bit yellow\": 1, \"yellow and red\": 1, \"yellowish and some red\": 1,\n",
    "                       \"mostly red but with a hint of yellow\": 1,\n",
    "                       \"red with small yellow spots\": 1, \"yellow with red spots\": 1\n",
    "                       }\n",
    "\n",
    "apple_tecture_options = {\"rough\": 1, \"grainy\": 1, \"very scratched\": 1, \"very pitted\": 1,\n",
    "                       \"smooth with a few dimples\": 2, \"mostly smooth\": 2,\n",
    "                         \"smooth but has a few scratches\": 2,\n",
    "                       \"smooth other than one small pit\": 2, \"smooth\": 3, \"silky\": 3,\n",
    "                       \"not rough at all\": 3, \"glassy\": 3}\n",
    "\n",
    "def diameter_points(d):\n",
    "    if 3 < d <= 3.6:\n",
    "        return 1\n",
    "    elif 3.6 < d <= 4.2:\n",
    "        return 2\n",
    "    else:\n",
    "        return 3\n",
    "\n",
    "\n",
    "def grade_apple(points):\n",
    "    if points >= 8:\n",
    "        return \"Grade A\"\n",
    "    elif points >= 6:\n",
    "        return \"Grade B\"\n",
    "    else:\n",
    "        return \"Grade C\"\n",
    "\n",
    "\n",
    "def generate_sample():\n",
    "    # sample diameter\n",
    "    diameter = random.uniform(3, 4.2)\n",
    "    color = random.choice(list(apple_color_options.keys()))\n",
    "    texture = random.choice(list(apple_tecture_options.keys()))\n",
    "\n",
    "    total_points = diameter_points(diameter) + apple_color_options[color] + apple_tecture_options[texture]\n",
    "\n",
    "    grade = grade_apple(total_points)\n",
    "\n",
    "    user_msg_start_options = [\"I have an apple with a diameter of \",\n",
    "                              \"My apple has a diameter of\",\n",
    "                              \"apple with a diameter of \",\n",
    "                              \"grade my apple that has a width of \",\n",
    "                              \"My friend's apple measures a width of \"]\n",
    "    user_msg = random.choice(user_msg_start_options)\n",
    "    user_msg += \"{0:.2f} inches and is {color} and feels {texture}\".format(diameter,\n",
    "                                                                    color=color,\n",
    "                                                                    texture=texture)\n",
    "\n",
    "    assistant_msg = \"Thank you for your request. This apple is {0} according to the AISX apple grading system.\".format(grade)\n",
    "    sample = {\"messages\": [{\"role\": \"system\", \"content\": system_msg},\n",
    "                           {\"role\": \"user\", \"content\": user_msg},\n",
    "                           {\"role\": \"assistant\", \"content\": assistant_msg}]}\n",
    "\n",
    "    return sample"
   ],
   "metadata": {
    "collapsed": false
   }
  },
  {
   "cell_type": "code",
   "execution_count": 9,
   "outputs": [],
   "source": [
    "with open(\"../data/apples_train.jsonl\", 'w') as jfile:\n",
    "    for _ in range(700):\n",
    "        sample = generate_sample()\n",
    "        jfile.write(json.dumps(sample))\n",
    "        jfile.write('\\n')\n",
    "\n",
    "with open(\"../data/apples_validation.jsonl\", 'w') as jfile:\n",
    "    for _ in range(150):\n",
    "        sample = generate_sample()\n",
    "        jfile.write(json.dumps(sample))\n",
    "        jfile.write('\\n')\n",
    "\n",
    "with open(\"../data/apples_test.jsonl\", 'w') as jfile:\n",
    "    for _ in range(150):\n",
    "        sample = generate_sample()\n",
    "        jfile.write(json.dumps(sample))\n",
    "        jfile.write('\\n')"
   ],
   "metadata": {
    "collapsed": false
   }
  },
  {
   "cell_type": "markdown",
   "source": [
    "# Upload Datasets"
   ],
   "metadata": {
    "collapsed": false
   }
  },
  {
   "cell_type": "code",
   "execution_count": 10,
   "outputs": [],
   "source": [
    "from openai import OpenAI\n",
    "from dotenv import load_dotenv\n",
    "import os\n",
    "load_dotenv('../.env')\n",
    "client = OpenAI(api_key=os.getenv(\"OPENAI_API_KEY\"))\n",
    "\n",
    "training_file = client.files.create(file=open(\"../data/apples_train.jsonl\", \"rb\"), purpose=\"fine-tune\")\n",
    "validation_file = client.files.create(file=open(\"../data/apples_validation.jsonl\", \"rb\"), purpose=\"fine-tune\")"
   ],
   "metadata": {
    "collapsed": false
   }
  },
  {
   "cell_type": "markdown",
   "source": [
    "# Create Fine Tuning Job"
   ],
   "metadata": {
    "collapsed": false
   }
  },
  {
   "cell_type": "code",
   "execution_count": 11,
   "outputs": [],
   "source": [
    "job = client.fine_tuning.jobs.create(training_file=training_file.id,\n",
    "                                     validation_file=validation_file.id,\n",
    "                                     model=\"gpt-4o-mini-2024-07-18\")"
   ],
   "metadata": {
    "collapsed": false
   }
  },
  {
   "cell_type": "code",
   "execution_count": 18,
   "outputs": [
    {
     "name": "stdout",
     "output_type": "stream",
     "text": [
      "Job status = succeeded\n"
     ]
    }
   ],
   "source": [
    "import time\n",
    "done = False\n",
    "while not done:\n",
    "    status = client.fine_tuning.jobs.retrieve(job.id).status\n",
    "    print(f\"Job status = {status}\")\n",
    "    if \"succeed\" in status:\n",
    "        done = True\n",
    "    time.sleep(3)"
   ],
   "metadata": {
    "collapsed": false
   }
  },
  {
   "cell_type": "code",
   "execution_count": 20,
   "outputs": [],
   "source": [
    "# get the name of the fine-tuned model\n",
    "finetuned_model = client.fine_tuning.jobs.retrieve(job.id).fine_tuned_model"
   ],
   "metadata": {
    "collapsed": false
   }
  },
  {
   "cell_type": "code",
   "execution_count": 21,
   "outputs": [
    {
     "name": "stdout",
     "output_type": "stream",
     "text": [
      "ChatCompletionMessage(content='Thank you for your request. This apple is Grade A according to the AISX apple grading system.', refusal=None, role='assistant', function_call=None, tool_calls=None)\n"
     ]
    }
   ],
   "source": [
    "completion = client.chat.completions.create(\n",
    "  model=finetuned_model,\n",
    "  messages=[\n",
    "    {\"role\": \"system\", \"content\": system_msg},\n",
    "    {\"role\": \"user\", \"content\": \"Grade my apple with a diameter of 3.7 inches and red in color with a smooth texture\"}\n",
    "  ]\n",
    ")\n",
    "print(completion.choices[0].message)"
   ],
   "metadata": {
    "collapsed": false
   }
  },
  {
   "cell_type": "code",
   "execution_count": null,
   "outputs": [],
   "source": [],
   "metadata": {
    "collapsed": false
   }
  }
 ],
 "metadata": {
  "kernelspec": {
   "display_name": "Python 3",
   "language": "python",
   "name": "python3"
  },
  "language_info": {
   "codemirror_mode": {
    "name": "ipython",
    "version": 2
   },
   "file_extension": ".py",
   "mimetype": "text/x-python",
   "name": "python",
   "nbconvert_exporter": "python",
   "pygments_lexer": "ipython2",
   "version": "2.7.6"
  }
 },
 "nbformat": 4,
 "nbformat_minor": 0
}
